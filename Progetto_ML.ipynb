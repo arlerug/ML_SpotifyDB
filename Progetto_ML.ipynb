{
 "cells": [
  {
   "cell_type": "code",
   "execution_count": null,
   "id": "c3639d71-f2a3-4c5c-bfa6-4aab6057a29b",
   "metadata": {
    "executionInfo": {
     "elapsed": 4784,
     "status": "ok",
     "timestamp": 1738945085714,
     "user": {
      "displayName": "Alessandra Ruggeri",
      "userId": "02889689465483710843"
     },
     "user_tz": -60
    },
    "id": "c3639d71-f2a3-4c5c-bfa6-4aab6057a29b"
   },
   "outputs": [],
   "source": [
    "import numpy as np\n",
    "import pandas as pd\n",
    "import seaborn as sns\n",
    "import matplotlib.pyplot as plt\n",
    "from sklearn import linear_model\n",
    "from sklearn.linear_model import LogisticRegression\n",
    "from sklearn.metrics import accuracy_score, f1_score, classification_report\n",
    "from sklearn.model_selection import train_test_split, GridSearchCV\n",
    "from sklearn.neighbors import KNeighborsClassifier\n",
    "from sklearn.neural_network import MLPClassifier\n",
    "from sklearn.preprocessing import StandardScaler, MinMaxScaler, RobustScaler, QuantileTransformer, PowerTransformer\n",
    "from sklearn.utils import shuffle\n",
    "from statsmodels.stats.outliers_influence import variance_inflation_factor\n",
    "from sklearn.metrics import confusion_matrix\n",
    "from sklearn.metrics import roc_auc_score, roc_curve\n",
    "from sklearn.metrics import precision_recall_curve, average_precision_score\n",
    "from sklearn.svm import SVC"
   ]
  },
  {
   "cell_type": "code",
   "execution_count": null,
   "id": "afb0beba-e1c3-4a47-b940-4d56993a772d",
   "metadata": {
    "colab": {
     "base_uri": "https://localhost:8080/",
     "height": 339
    },
    "executionInfo": {
     "elapsed": 548,
     "status": "error",
     "timestamp": 1738945090082,
     "user": {
      "displayName": "Alessandra Ruggeri",
      "userId": "02889689465483710843"
     },
     "user_tz": -60
    },
    "id": "afb0beba-e1c3-4a47-b940-4d56993a772d",
    "outputId": "5cddcc5d-6c5d-4213-e63f-d14b38d2e8d9"
   },
   "outputs": [],
   "source": [
    "pd.set_option('display.expand_frame_repr', False)\n",
    "spoty_df = pd.read_csv('SpotifyFeatures.csv')\n",
    "\n",
    "spoty_df = shuffle(spoty_df)"
   ]
  },
  {
   "cell_type": "markdown",
   "id": "ad3cfeee-5eee-40d4-a0fa-5223632d0be0",
   "metadata": {
    "id": "ad3cfeee-5eee-40d4-a0fa-5223632d0be0"
   },
   "source": [
    "### Dataset structure"
   ]
  },
  {
   "cell_type": "code",
   "execution_count": null,
   "id": "3d2f68d9-76d2-4f1e-9db3-509573a1aaff",
   "metadata": {
    "id": "3d2f68d9-76d2-4f1e-9db3-509573a1aaff",
    "outputId": "56578deb-8d4e-4f5f-81b5-e7001b68708b"
   },
   "outputs": [],
   "source": [
    "print(spoty_df.head())\n",
    "print(spoty_df.describe())\n",
    "print(spoty_df.info())\n",
    "print(spoty_df['genre'])"
   ]
  },
  {
   "cell_type": "markdown",
   "id": "df5a21ab-996f-4f7d-b154-8a7761fabfb1",
   "metadata": {
    "id": "df5a21ab-996f-4f7d-b154-8a7761fabfb1"
   },
   "source": [
    "### management of null, infinite and duplicate values"
   ]
  },
  {
   "cell_type": "code",
   "execution_count": null,
   "id": "64baac34-f8ed-45fc-8542-b9b827440000",
   "metadata": {
    "id": "64baac34-f8ed-45fc-8542-b9b827440000",
    "outputId": "5e15816f-74d8-4db2-fc91-032eba68e0f5"
   },
   "outputs": [],
   "source": [
    "#checking null values\n",
    "null_values = spoty_df.isnull()\n",
    "null_columns = null_values.any()\n",
    "print(\"Colonne con valori nulli:\")\n",
    "print(null_columns)"
   ]
  },
  {
   "cell_type": "code",
   "execution_count": null,
   "id": "099d4283-48e5-406a-bb6a-efd8d8ccd83f",
   "metadata": {
    "id": "099d4283-48e5-406a-bb6a-efd8d8ccd83f",
    "outputId": "2da7ab92-7dcd-4490-c834-fb64d4a92649"
   },
   "outputs": [],
   "source": [
    "#checking infinite values\n",
    "if spoty_df.select_dtypes(include=[np.number]).applymap(np.isinf).any().any():\n",
    "    print(\"Sono presenti valori infiniti nel DataFrame.\")\n",
    "else:\n",
    "    print(\"Non sono presenti valori infiniti nel DataFrame.\")"
   ]
  },
  {
   "cell_type": "code",
   "execution_count": null,
   "id": "ba39e372-4e1d-42a0-9af4-4c9e281eb6fe",
   "metadata": {
    "id": "ba39e372-4e1d-42a0-9af4-4c9e281eb6fe",
    "outputId": "a6545bc5-e24c-4d1d-ffcc-bee28aea8a06"
   },
   "outputs": [],
   "source": [
    "#checking and removing duplicates\n",
    "duplicates = spoty_df[spoty_df.duplicated(subset=['track_id'])]\n",
    "print(\"duplicates:\")\n",
    "print(duplicates)\n",
    "spoty_df = spoty_df.drop_duplicates(subset=['track_id'])\n",
    "genre_counts = spoty_df['genre'].value_counts()\n",
    "print(genre_counts)"
   ]
  },
  {
   "cell_type": "markdown",
   "id": "f9094c99-d318-424d-9318-ec2237343b01",
   "metadata": {
    "id": "f9094c99-d318-424d-9318-ec2237343b01"
   },
   "source": [
    "### Selection of genres and elimination of uninteresting features"
   ]
  },
  {
   "cell_type": "code",
   "execution_count": null,
   "id": "e3a18178-23c4-4786-90aa-ab622721c0e6",
   "metadata": {
    "id": "e3a18178-23c4-4786-90aa-ab622721c0e6",
    "outputId": "65eec702-323e-46ae-accf-c6e4489a67a2"
   },
   "outputs": [],
   "source": [
    "#Selection of the genres of interest.\n",
    "desired_genres = ['Rock', 'Classical', 'Jazz']\n",
    "top3_df = spoty_df[spoty_df['genre'].isin(desired_genres)]\n",
    "genre_counts = top3_df['genre'].value_counts()\n",
    "print(genre_counts)"
   ]
  },
  {
   "cell_type": "code",
   "execution_count": null,
   "id": "561df1dc-15be-4085-a998-09cc7ddd63d1",
   "metadata": {
    "id": "561df1dc-15be-4085-a998-09cc7ddd63d1"
   },
   "outputs": [],
   "source": [
    "#Elimination of features that are certainly useless.\n",
    "top3_df = top3_df.drop(['artist_name'], axis=1)\n",
    "top3_df = top3_df.drop(['track_name'], axis=1)\n",
    "top3_df = top3_df.drop(['track_id'], axis=1)\n",
    "top3_df = top3_df.drop(['duration_ms'], axis=1)"
   ]
  },
  {
   "cell_type": "markdown",
   "id": "de6a9595-f61e-41ac-9e1c-d94d3aea47bf",
   "metadata": {
    "id": "de6a9595-f61e-41ac-9e1c-d94d3aea47bf"
   },
   "source": [
    "# EDA"
   ]
  },
  {
   "cell_type": "code",
   "execution_count": null,
   "id": "b174ea46-3fa8-4abf-9307-375d7b10684c",
   "metadata": {
    "id": "b174ea46-3fa8-4abf-9307-375d7b10684c"
   },
   "outputs": [],
   "source": [
    "# Selection of only the numerical columns.\n",
    "features = top3_df.select_dtypes(include=np.number).columns.tolist()"
   ]
  },
  {
   "cell_type": "code",
   "execution_count": null,
   "id": "7c568fce-5b8f-432a-ac97-3ffdbb3a28b7",
   "metadata": {
    "id": "7c568fce-5b8f-432a-ac97-3ffdbb3a28b7",
    "outputId": "e9e446d6-87f3-4061-8b58-665e0df43edb"
   },
   "outputs": [],
   "source": [
    "grouped = top3_df.groupby(['genre', 'key']).size().unstack(fill_value=0)\n",
    "sns.set(style=\"whitegrid\")\n",
    "plt.figure(figsize=(12, 6))\n",
    "sns.barplot(data=grouped, palette=\"muted\")\n",
    "plt.xlabel('Valore di key')\n",
    "plt.ylabel('Numero di campioni')\n",
    "plt.title('Numero di campioni per genere musicale e valore di key')\n",
    "plt.xticks(rotation=45)\n",
    "plt.tight_layout()\n",
    "plt.show()"
   ]
  },
  {
   "cell_type": "markdown",
   "id": "6446c11c-2550-4ab2-8ab5-34ace16d1d3b",
   "metadata": {
    "id": "6446c11c-2550-4ab2-8ab5-34ace16d1d3b"
   },
   "source": [
    "### Handling of time_signature"
   ]
  },
  {
   "cell_type": "code",
   "execution_count": null,
   "id": "78897209-11ff-4927-88de-8123fdac99f3",
   "metadata": {
    "id": "78897209-11ff-4927-88de-8123fdac99f3",
    "outputId": "93528986-5d61-4653-93c8-d6c695dccc3c"
   },
   "outputs": [],
   "source": [
    "print(top3_df['time_signature'].unique())\n",
    "#It is very likely that the entry of 1/4 is a data entry error because it is equivalent to 4/4.\n",
    "top3_df.loc[:, 'time_signature'] = top3_df['time_signature'].replace(['1/4'], '4/4')\n",
    "print(\"Tracks with a 0/4 time signature: %s\" % len(top3_df[top3_df['time_signature'] == '0/4']))\n",
    "top3_df = top3_df[top3_df['time_signature'] != '0/4']  # Remove the rows with '0/4' from the 'time_signature' column."
   ]
  },
  {
   "cell_type": "markdown",
   "id": "4748c83a-b89a-4506-85a7-eba4d508c90d",
   "metadata": {
    "id": "4748c83a-b89a-4506-85a7-eba4d508c90d"
   },
   "source": [
    "### Genre distribution"
   ]
  },
  {
   "cell_type": "code",
   "execution_count": null,
   "id": "017dca54-b535-4cf2-ac65-5e30a9bfe0d7",
   "metadata": {
    "id": "017dca54-b535-4cf2-ac65-5e30a9bfe0d7",
    "outputId": "9586f9e7-3ec9-44ad-80e7-b6340638a8e9"
   },
   "outputs": [],
   "source": [
    "plt.figure(figsize=(15, 5))\n",
    "sns.histplot(top3_df['genre']).set_title('Genre Distribution')\n",
    "plt.show()"
   ]
  },
  {
   "cell_type": "code",
   "execution_count": null,
   "id": "313a91fb-7d07-4663-bda2-4ee8194ce14f",
   "metadata": {
    "id": "313a91fb-7d07-4663-bda2-4ee8194ce14f"
   },
   "outputs": [],
   "source": [
    "# We notice that the dataset is unbalanced."
   ]
  },
  {
   "cell_type": "markdown",
   "id": "7c78237c-7a49-435c-b470-b8057eeab7f1",
   "metadata": {
    "id": "7c78237c-7a49-435c-b470-b8057eeab7f1"
   },
   "source": [
    "## Conversion of categorical values"
   ]
  },
  {
   "cell_type": "code",
   "execution_count": null,
   "id": "3be5a6a0-82d4-4552-870b-3ef48851c6ca",
   "metadata": {
    "id": "3be5a6a0-82d4-4552-870b-3ef48851c6ca",
    "outputId": "bdb1fc3c-6ffb-4fc8-db4d-44f99d58705f"
   },
   "outputs": [],
   "source": [
    "#We use labels because they are ordinal categorical values\n",
    "time_signature_mapping = {'3/4': 0,'4/4':1 ,'5/4': 2}\n",
    "top3_encoded_df=top3_df\n",
    "top3_encoded_df['time_signature'] = top3_encoded_df['time_signature'].map(time_signature_mapping)\n",
    "mode_mapping = {'Major': 1,'Minor':0}\n",
    "top3_encoded_df['mode'] = top3_encoded_df['mode'].map(mode_mapping)\n",
    "notes_ordered = ['C', 'C#', 'D', 'D#', 'E', 'F', 'F#', 'G', 'G#', 'A', 'A#', 'B']\n",
    "key_mapping = {note: index for index, note in enumerate(notes_ordered)}\n",
    "top3_encoded_df['key'] = top3_encoded_df['key'].map(key_mapping)\n",
    "print(top3_df.head())"
   ]
  },
  {
   "cell_type": "markdown",
   "id": "600bae3a-3348-4d0a-8b13-55ffcb632b30",
   "metadata": {
    "id": "600bae3a-3348-4d0a-8b13-55ffcb632b30"
   },
   "source": [
    "## Normalization"
   ]
  },
  {
   "cell_type": "code",
   "execution_count": null,
   "id": "17da7535-70eb-4cee-97a2-c8d8da8eb37d",
   "metadata": {
    "id": "17da7535-70eb-4cee-97a2-c8d8da8eb37d",
    "outputId": "af1c657b-9440-4da6-ab12-91f2e488061e"
   },
   "outputs": [],
   "source": [
    "import pandas as pd\n",
    "from sklearn.model_selection import train_test_split\n",
    "from sklearn.preprocessing import StandardScaler\n",
    "\n",
    "top3_encoded_df['loudness'] *= -1\n",
    "\n",
    "# Splitting labels from features\n",
    "t = top3_encoded_df['genre']\n",
    "X = top3_encoded_df.drop(['genre'], axis=1)\n",
    "\n",
    "# Splitting the dataset in train and test\n",
    "X_train, X_test, t_train, t_test = train_test_split(X, t, train_size=0.7, test_size=0.3, random_state=100)\n",
    "\n",
    "# Normalization\n",
    "scaler = StandardScaler()\n",
    "X_train = scaler.fit_transform(X_train)\n",
    "X_test = scaler.transform(X_test)\n",
    "\n",
    "X_train = pd.DataFrame(X_train, columns=X.columns)\n",
    "X_test = pd.DataFrame(X_test, columns=X.columns)\n",
    "\n",
    "#Merging X_train and X_test, t_train and t_test into a single DataFrame\n",
    "X_combined = pd.concat([X_train, X_test], axis=0).reset_index(drop=True)\n",
    "\n",
    "t_train = pd.DataFrame(t_train).reset_index(drop=True)\n",
    "t_test = pd.DataFrame(t_test).reset_index(drop=True)\n",
    "\n",
    "X_train['genre'] = t_train\n",
    "X_test['genre'] = t_test\n",
    "\n",
    "df_with_labels = pd.concat([X_train, X_test], axis=0).reset_index(drop=True)\n",
    "\n",
    "#final dataframe\n",
    "print(\"\\ncombined_df_with_labels:\")\n",
    "print(df_with_labels)\n"
   ]
  },
  {
   "cell_type": "markdown",
   "id": "365f41e3-75f0-4351-984d-0c1bde27da39",
   "metadata": {
    "id": "365f41e3-75f0-4351-984d-0c1bde27da39"
   },
   "source": [
    "## Further data exploration"
   ]
  },
  {
   "cell_type": "code",
   "execution_count": null,
   "id": "289e65e0-51ab-47c9-96d6-5bf408faea55",
   "metadata": {
    "id": "289e65e0-51ab-47c9-96d6-5bf408faea55",
    "outputId": "579e2064-cfcd-45b4-9628-9fdfdbcad07a"
   },
   "outputs": [],
   "source": [
    "num_rows = 2\n",
    "num_cols = (len(features) + 1) // 2\n",
    "plt.figure(figsize=(16, 10))\n",
    "\n",
    "for i, feature in enumerate(features, start=1):\n",
    "    plt.subplot(num_rows, num_cols, i)\n",
    "\n",
    "    for genre, data in df_with_labels.groupby('genre'):\n",
    "        counts, bin_edges = np.histogram(data[feature], bins=10, density=True)\n",
    "        pdf = counts / sum(counts)\n",
    "\n",
    "        plt.plot(bin_edges[1:], pdf, label=genre)\n",
    "\n",
    "    plt.title(f'Distribuzione di {feature}')\n",
    "    plt.xlabel(feature)\n",
    "    plt.ylabel('Densità di Probabilità')\n",
    "    plt.legend()\n",
    "\n",
    "plt.tight_layout()\n",
    "plt.show()"
   ]
  },
  {
   "cell_type": "code",
   "execution_count": null,
   "id": "d4f0d16c-bf85-4168-af9b-a7652f8f8fac",
   "metadata": {
    "id": "d4f0d16c-bf85-4168-af9b-a7652f8f8fac"
   },
   "outputs": [],
   "source": [
    "#We might consider dropping tempo, speechiness, liveness, and instrumentalness since their distributions are largely\n",
    "#overlapping and thus not sufficiently discriminating."
   ]
  },
  {
   "cell_type": "code",
   "execution_count": null,
   "id": "cd051c5f-b0a0-4b82-bb33-4a07c20d35a0",
   "metadata": {
    "id": "cd051c5f-b0a0-4b82-bb33-4a07c20d35a0",
    "outputId": "358a3ce4-4335-4419-a0b0-2433bf156c71"
   },
   "outputs": [],
   "source": [
    "#Let's try to understand which features better explain the genres.\n",
    "fig, axs = plt.subplots(1, 3, figsize=(15, 5))\n",
    "X_dummies=pd.get_dummies(df_with_labels)\n",
    "X_dummies.corr()['genre_Rock'].sort_values(ascending=False).plot(kind='bar', ax=axs[0])\n",
    "axs[0].set_title('Correlazione con il genere Electronic')\n",
    "X_dummies.corr()['genre_Classical'].sort_values(ascending=False).plot(kind='bar', ax=axs[1])\n",
    "axs[1].set_title('Correlazione con il genere Classical')\n",
    "X_dummies.corr()['genre_Jazz'].sort_values(ascending=False).plot(kind='bar', ax=axs[2])\n",
    "axs[2].set_title('Correlazione con il genere Jazz')\n",
    "plt.tight_layout()\n",
    "plt.show()"
   ]
  },
  {
   "cell_type": "code",
   "execution_count": null,
   "id": "6248cfe1-57da-4bdc-a35d-affa285af39f",
   "metadata": {
    "id": "6248cfe1-57da-4bdc-a35d-affa285af39f"
   },
   "outputs": [],
   "source": [
    "#The result of the previous graph is confirmed by this graph. We also notice that key doesn't explain well enough the genre."
   ]
  },
  {
   "cell_type": "code",
   "execution_count": null,
   "id": "694db03a-851e-49d1-9723-41f03e7373a2",
   "metadata": {
    "id": "694db03a-851e-49d1-9723-41f03e7373a2",
    "outputId": "97e8e5f5-833f-466a-c050-cdf66600bf4d"
   },
   "outputs": [],
   "source": [
    "#Analysis of the correlation between features\n",
    "corr_matrix = df_with_labels.corr(numeric_only=True)\n",
    "sns.heatmap(corr_matrix, annot=True)\n",
    "plt.show()"
   ]
  },
  {
   "cell_type": "code",
   "execution_count": null,
   "id": "4f25d8a8-7790-4239-9d1f-97ce76673393",
   "metadata": {
    "id": "4f25d8a8-7790-4239-9d1f-97ce76673393"
   },
   "outputs": [],
   "source": [
    "#We notice that energy is highly correlated with acousticness, and we might consider dropping one of them."
   ]
  },
  {
   "cell_type": "code",
   "execution_count": null,
   "id": "9ec8a7cc-b133-4120-a02a-db5b77cd5e07",
   "metadata": {
    "id": "9ec8a7cc-b133-4120-a02a-db5b77cd5e07"
   },
   "outputs": [],
   "source": [
    "df_with_labels=df_with_labels.reset_index(drop=True).drop(columns=['key','instrumentalness','speechiness','liveness','tempo','time_signature'], axis=1)\n",
    "\n",
    "\n",
    "#top5_encoded_df.drop('energy', axis=1)\n"
   ]
  },
  {
   "cell_type": "markdown",
   "id": "5afc7f49-8302-4f04-8f77-273cdef312e2",
   "metadata": {
    "id": "5afc7f49-8302-4f04-8f77-273cdef312e2"
   },
   "source": [
    "# Outlier management"
   ]
  },
  {
   "cell_type": "code",
   "execution_count": null,
   "id": "9ecd49e7-aa24-45a4-aeed-c08b8ec8fad8",
   "metadata": {
    "id": "9ecd49e7-aa24-45a4-aeed-c08b8ec8fad8",
    "outputId": "e103daf8-9c67-4735-e3d7-84afa5c8d389"
   },
   "outputs": [],
   "source": [
    "#grafico box per controllare outlier\n",
    "plt.figure(figsize=(22, 6))\n",
    "ax = sns.boxplot(data=df_with_labels.drop(['genre'], axis=1).values)\n",
    "ax.set_xticklabels(df_with_labels.drop(['genre'], axis=1).columns, rotation=45)  # Imposta i nomi delle colonne come etichette sull'asse x\n",
    "plt.xlabel('Nome delle feature')  # Aggiungi un'etichetta all'asse x\n",
    "plt.ylabel('Valore')  # Aggiungi un'etichetta all'asse y\n",
    "plt.title('Boxplot delle feature')  # Aggiungi un titolo al grafico\n",
    "plt.show()\n",
    "\n",
    "#print(X_train.head())\n",
    "#mi concentro sulle feature 5,6,8 che sono quelle con outlier (tempo, liveness, loudaness e  speechiness)"
   ]
  },
  {
   "cell_type": "code",
   "execution_count": null,
   "id": "91a69f4a-5f6c-489f-aba9-b0d74d41600c",
   "metadata": {
    "id": "91a69f4a-5f6c-489f-aba9-b0d74d41600c"
   },
   "outputs": [],
   "source": [
    "#Splitting into train and test to remove outliers only from train\n",
    "t = df_with_labels['genre']\n",
    "X = df_with_labels.drop(['genre'], axis=1)\n",
    "\n",
    "X_train, X_test, t_train, t_test = train_test_split(X, t, train_size=0.7, test_size=0.3, random_state=100)"
   ]
  },
  {
   "cell_type": "code",
   "execution_count": null,
   "id": "b8772818-9d3d-40d8-ac70-d092c1459a13",
   "metadata": {
    "id": "b8772818-9d3d-40d8-ac70-d092c1459a13",
    "outputId": "ecbc7e3d-92c7-45e7-eee1-748f1052fb1b"
   },
   "outputs": [],
   "source": [
    "selected_columns = X_train[[ 'loudness','popularity']]\n",
    "selected_data = pd.DataFrame(selected_columns)\n",
    "plt.figure(figsize=(10, 6))\n",
    "ax = sns.boxplot(data=selected_data)\n",
    "plt.xlabel('Features')\n",
    "plt.ylabel('Valore')\n",
    "plt.title('Boxplot di alcune features selezionate')\n",
    "plt.show()"
   ]
  },
  {
   "cell_type": "code",
   "execution_count": null,
   "id": "544c7b97-66a0-4fba-9fed-6c029dbcce91",
   "metadata": {
    "id": "544c7b97-66a0-4fba-9fed-6c029dbcce91",
    "outputId": "f43bcff0-3c07-4281-aebf-224a3a95a827"
   },
   "outputs": [],
   "source": [
    "# Removing outliers from X_train and corresponding records from y_train\n",
    "quantiles = X_train[['loudness','popularity']].quantile([0.5, 0.95])\n",
    "lower_quantile = quantiles.iloc[0]\n",
    "upper_quantile = quantiles.iloc[1]\n",
    "\n",
    "X_train = X_train[(X_train['loudness'] >= lower_quantile['loudness']) & (X_train['loudness'] <= upper_quantile['loudness'])]\n",
    "t_train = t_train[X_train.index]  # Elimina i record corrispondenti da t_train\n",
    "\n",
    "X_train = X_train[(X_train['popularity'] >= lower_quantile['popularity']) & (X_train['popularity'] <= upper_quantile['popularity'])]\n",
    "t_train = t_train[X_train.index]  # Elimina i record corrispondenti da t_train\n",
    "\n",
    "# Graph without outliers\n",
    "selected_columns = X_train[['loudness', 'popularity']]\n",
    "selected_data = pd.DataFrame(selected_columns)\n",
    "plt.figure(figsize=(10, 6))\n",
    "ax = sns.boxplot(data=selected_data)\n",
    "plt.xlabel('Features')\n",
    "plt.ylabel('Valore')\n",
    "plt.title('Boxplot di alcune features selezionate')\n",
    "plt.show()\n"
   ]
  },
  {
   "cell_type": "markdown",
   "id": "2667f395-efd5-46e8-9bac-6ce6a3b6b79c",
   "metadata": {
    "id": "2667f395-efd5-46e8-9bac-6ce6a3b6b79c"
   },
   "source": [
    "## VIF"
   ]
  },
  {
   "cell_type": "code",
   "execution_count": null,
   "id": "093da04d-3f96-4d9e-9c94-b659ce4f39aa",
   "metadata": {
    "id": "093da04d-3f96-4d9e-9c94-b659ce4f39aa",
    "outputId": "78b538d8-55ea-4dd1-c3d5-508b7b4de804"
   },
   "outputs": [],
   "source": [
    "vif = pd.DataFrame()\n",
    "column_names = pd.get_dummies(X_train, drop_first='False').columns.tolist()\n",
    "vif['Feature'] = column_names\n",
    "vif['VIF'] = [variance_inflation_factor(X_train, i) for i in range(X_train.shape[1])]\n",
    "vif['VIF'] = round(vif['VIF'], 2)\n",
    "vif = vif.sort_values(by=\"VIF\", ascending=False)\n",
    "print(vif)\n"
   ]
  },
  {
   "cell_type": "code",
   "execution_count": null,
   "id": "30d04b62-b312-41d6-9bc2-757ac9e676ac",
   "metadata": {
    "id": "30d04b62-b312-41d6-9bc2-757ac9e676ac"
   },
   "outputs": [],
   "source": [
    "# we notice we could drop energy"
   ]
  },
  {
   "cell_type": "code",
   "execution_count": null,
   "id": "4b6b767a-5229-4079-9087-052036157bad",
   "metadata": {
    "id": "4b6b767a-5229-4079-9087-052036157bad",
    "outputId": "af2f5fcb-50ee-4357-a199-b91dd32405ce"
   },
   "outputs": [],
   "source": [
    "#Let's check if the correlation matrix gives us the same result\n",
    "corr_matrix = X_train.corr(numeric_only=True)\n",
    "sns.heatmap(corr_matrix, annot=True)\n",
    "plt.show()\n",
    "# we can definetly drop energy"
   ]
  },
  {
   "cell_type": "code",
   "execution_count": null,
   "id": "f901a1a2-0384-4e28-bf36-e5723b2efa65",
   "metadata": {
    "id": "f901a1a2-0384-4e28-bf36-e5723b2efa65",
    "outputId": "d1ee9152-cfd2-4c38-cce5-c714f4d0a7c4"
   },
   "outputs": [],
   "source": [
    "X_train.drop('energy', axis=1, inplace=True)\n",
    "X_test.drop('energy', axis=1, inplace=True)\n",
    "vif = pd.DataFrame()\n",
    "column_names = pd.get_dummies(X_train, drop_first='False').columns.tolist()\n",
    "vif['Feature'] = column_names\n",
    "vif['VIF'] = [variance_inflation_factor(X_train, i) for i in range(X_train.shape[1])]\n",
    "vif['VIF'] = round(vif['VIF'], 2)\n",
    "vif = vif.sort_values(by=\"VIF\", ascending=False)\n",
    "print(vif)"
   ]
  },
  {
   "cell_type": "markdown",
   "id": "5ec54a97-7ea0-4fb2-bc25-e53468f9e40f",
   "metadata": {
    "id": "5ec54a97-7ea0-4fb2-bc25-e53468f9e40f"
   },
   "source": [
    "# logistic regression"
   ]
  },
  {
   "cell_type": "code",
   "execution_count": null,
   "id": "919ec1d0-5e50-4062-b8a2-143ba76107d6",
   "metadata": {
    "id": "919ec1d0-5e50-4062-b8a2-143ba76107d6",
    "outputId": "a709cb29-0809-4e5a-d15e-49207e8396e4"
   },
   "outputs": [],
   "source": [
    "hyper_param = [\n",
    "    {\n",
    "        'C': np.logspace(-4, 4, 20),\n",
    "        'solver': ['lbfgs','newton-cg', 'sag', 'saga'],\n",
    "        'max_iter': [100, 1000, 2500]\n",
    "    }\n",
    "]\n",
    "\n",
    "# Model creation and training using grid search\n",
    "clf = GridSearchCV(linear_model.LogisticRegression(multi_class='multinomial'), param_grid=hyper_param, verbose=10, n_jobs=-1, error_score=\"raise\", scoring='f1_weighted')\n",
    "best_clf = clf.fit(X_train, t_train)\n",
    "\n",
    "# Printing the best parameters and the best accuracy\n",
    "print(\"Tuned hyperparameters (best parameters): \", clf.best_params_)\n",
    "print(\"F1 score on the train set: \", clf.best_score_)\n",
    "\n",
    "# Training the best model on the complete training data\n",
    "best_model = linear_model.LogisticRegression(**clf.best_params_)\n",
    "best_model.fit(X_train, t_train)\n",
    "\n",
    "# Prediction on the test set\n",
    "t_hat_test = best_model.predict(X_test)\n",
    "\n",
    "# Calculation of evaluation metrics on the test set\n",
    "print(\"Accuracy score on the test set: \", accuracy_score(t_test, t_hat_test))\n",
    "print(\"F1 score on the test set: \", f1_score(t_test, t_hat_test, average='weighted'))\n",
    "print(classification_report(t_test, t_hat_test))\n"
   ]
  },
  {
   "cell_type": "markdown",
   "id": "653c1879-9eb1-42ed-88ae-e599617396f0",
   "metadata": {
    "id": "653c1879-9eb1-42ed-88ae-e599617396f0"
   },
   "source": [
    "## Confusion matrix"
   ]
  },
  {
   "cell_type": "code",
   "execution_count": null,
   "id": "ea1d0158-e596-41fc-b2a8-fec2980aeb12",
   "metadata": {
    "id": "ea1d0158-e596-41fc-b2a8-fec2980aeb12",
    "outputId": "8d9bc374-8400-4b0d-e597-66e9fb0af649"
   },
   "outputs": [],
   "source": [
    "conf_matrix = confusion_matrix(t_test, t_hat_test)\n",
    "\n",
    "labels = ['Classical', 'Jazz','Rock']\n",
    "plt.figure(figsize=(8, 6))\n",
    "sns.heatmap(conf_matrix, annot=True, cmap=\"Blues\", fmt=\"d\", xticklabels=labels, yticklabels=labels)\n",
    "plt.xlabel('Predicted')\n",
    "plt.ylabel('Actual')\n",
    "plt.title('Confusion Matrix')\n",
    "plt.show()"
   ]
  },
  {
   "cell_type": "markdown",
   "id": "47e32677-bc78-4ead-b404-b4d73f281c30",
   "metadata": {
    "id": "47e32677-bc78-4ead-b404-b4d73f281c30"
   },
   "source": [
    "# KNN"
   ]
  },
  {
   "cell_type": "code",
   "execution_count": null,
   "id": "0e87591b-4c94-4c74-ac58-82d3daa764ba",
   "metadata": {
    "id": "0e87591b-4c94-4c74-ac58-82d3daa764ba",
    "outputId": "6005a2de-a51f-49bc-cfbd-1e192ac0d536"
   },
   "outputs": [],
   "source": [
    "hyper_param = [\n",
    "    {\n",
    "        'n_neighbors': [3, 7,9,11],\n",
    "        'weights': ['uniform', 'distance'],\n",
    "        'algorithm': ['auto', 'ball_tree', 'kd_tree', 'brute']\n",
    "    }\n",
    "]\n",
    "\n",
    "clfKNN = GridSearchCV(KNeighborsClassifier(), param_grid=hyper_param, verbose=10, n_jobs=-1, error_score=\"raise\",scoring='f1_macro')\n",
    "best_clf = clfKNN.fit(X_train, t_train)\n",
    "\n",
    "# Printing the best parameters and the best accuracy\n",
    "print(\"Tuned hyperparameters (best parameters): \", clfKNN.best_params_)\n",
    "print(\"Accuracy:\", clfKNN.best_score_)\n",
    "\n",
    "t_hat_test = clfKNN.predict(X_test)\n",
    "print(\"Accuracy score on the test set: \", accuracy_score(t_test, t_hat_test))\n",
    "print(\"F1 score on the test set: \", f1_score(t_test, t_hat_test, average='weighted'))\n",
    "\n",
    "\n",
    "# Training the best model on the complete training data\n",
    "model = KNeighborsClassifier(**clfKNN.best_params_)\n",
    "model.fit(X_train, t_train)\n",
    "\n",
    "# Prediction on the test set\n",
    "t_pred = model.predict(X_test)\n",
    "\n",
    "# Calculation of evaluation metrics on the test set\n",
    "print(classification_report(t_test, t_pred))"
   ]
  },
  {
   "cell_type": "markdown",
   "id": "a8b1e7d5-f3e9-4d35-96fe-9fddeaf0ff2e",
   "metadata": {
    "id": "a8b1e7d5-f3e9-4d35-96fe-9fddeaf0ff2e"
   },
   "source": [
    "## ROC-AUC"
   ]
  },
  {
   "cell_type": "code",
   "execution_count": null,
   "id": "621c9559-38e7-4b01-896d-e35da91dcc5d",
   "metadata": {
    "id": "621c9559-38e7-4b01-896d-e35da91dcc5d",
    "outputId": "dc9cb7db-2898-4865-836c-c75e6e8ab1b8"
   },
   "outputs": [],
   "source": [
    "# Calculate the class probabilities for the test set\n",
    "probs = clf.predict_proba(X_test)\n",
    "\n",
    "# Calculate the ROC-AUC for each class\n",
    "roc_auc = roc_auc_score(t_test, probs, multi_class='ovr')  # 'ovr' for multiclass problems\n",
    "\n",
    "#Calculate and plot the ROC curve for each class\n",
    "plt.figure(figsize=(8, 6))\n",
    "\n",
    "for i in range(len(labels)):\n",
    "    fpr, tpr, _ = roc_curve(t_test == labels[i], probs[:, i])\n",
    "    plt.plot(fpr, tpr, label=f'ROC Curve (Class {labels[i]})')\n",
    "\n",
    "plt.plot([0, 1], [0, 1], linestyle='--', color='gray')\n",
    "\n",
    "plt.xlabel('False Positive Rate')\n",
    "plt.ylabel('True Positive Rate')\n",
    "plt.title('ROC Curve')\n",
    "plt.legend()\n",
    "plt.grid(True)\n",
    "plt.show()"
   ]
  },
  {
   "cell_type": "markdown",
   "id": "2902fd7d-9592-4c79-8382-11ef44606a02",
   "metadata": {
    "id": "2902fd7d-9592-4c79-8382-11ef44606a02"
   },
   "source": [
    "# Neural Network"
   ]
  },
  {
   "cell_type": "code",
   "execution_count": null,
   "id": "f0fa3e10-ace7-4a2e-bc21-c0a94583405a",
   "metadata": {
    "id": "f0fa3e10-ace7-4a2e-bc21-c0a94583405a",
    "outputId": "459d82d8-9624-4bcf-c86d-11797e6b1a14"
   },
   "outputs": [],
   "source": [
    "print(t_train)"
   ]
  },
  {
   "cell_type": "code",
   "execution_count": null,
   "id": "89f695aa-fb81-4f2f-84f5-1a86086bde8d",
   "metadata": {
    "id": "89f695aa-fb81-4f2f-84f5-1a86086bde8d",
    "outputId": "1f3cca1c-de6d-4972-aebe-d714d690bd1c"
   },
   "outputs": [],
   "source": [
    "hyper_param_mlp = {\n",
    "    'hidden_layer_sizes': [(100,100), (100, 150), (150, 150)],\n",
    "    'activation': [ 'relu'],\n",
    "    'solver': ['adam'],\n",
    "    'alpha': [0.0001, 0.001, 0.01],\n",
    "    'early_stopping': [True, False],\n",
    "    'max_iter': [500]\n",
    "}\n",
    "\n",
    "clfMLP = GridSearchCV(MLPClassifier(), param_grid=hyper_param_mlp, verbose=10, n_jobs=-1, error_score=\"raise\", scoring='f1_macro')\n",
    "\n",
    "best_clf_mlp = clfMLP.fit(X_train, t_train)\n",
    "\n",
    "print(\"Tuned hyperparameters (best parameters): \", clfMLP.best_params_)\n",
    "print(\"Accuracy:\", clfMLP.best_score_)\n",
    "\n",
    "best_mlp_model = MLPClassifier(**clfMLP.best_params_)\n",
    "best_mlp_model.fit(X_train, t_train)\n",
    "\n",
    "t_hat_test_mlp = best_mlp_model.predict(X_test)\n",
    "\n",
    "print(\"F1 score on the test set: \", f1_score(t_test, t_hat_test_mlp, average='weighted'))\n",
    "\n",
    "print(classification_report(t_test, t_hat_test_mlp))\n"
   ]
  },
  {
   "cell_type": "markdown",
   "id": "a96eeb3f-1f59-407d-951c-daa24eddca64",
   "metadata": {
    "id": "a96eeb3f-1f59-407d-951c-daa24eddca64"
   },
   "source": [
    "# SVM"
   ]
  },
  {
   "cell_type": "code",
   "execution_count": null,
   "id": "34cf4f7e-bae0-475c-a34e-56ac0e9af0ad",
   "metadata": {
    "id": "34cf4f7e-bae0-475c-a34e-56ac0e9af0ad",
    "outputId": "06e83355-e2f8-4ef2-ee42-10a533056598"
   },
   "outputs": [],
   "source": [
    "hyper_param_svm = {\n",
    "    'C': [0.1, 1, 10],\n",
    "    'kernel': ['linear', 'poly', 'rbf', 'sigmoid'],\n",
    "    'gamma': ['scale', 'auto'],\n",
    "}\n",
    "\n",
    "clf_svm = GridSearchCV(SVC(), param_grid=hyper_param_svm, verbose=10, n_jobs=-1, error_score=\"raise\", scoring='f1_macro')\n",
    "\n",
    "best_clf_svm = clf_svm.fit(X_train, t_train)\n",
    "\n",
    "print(\"Tuned hyperparameters (best parameters): \", clf_svm.best_params_)\n",
    "print(\"Accuracy:\", clf_svm.best_score_)\n",
    "\n",
    "best_svm_model = SVC(**clf_svm.best_params_)\n",
    "best_svm_model.fit(X_train, t_train)\n",
    "\n",
    "t_pred_svm = best_svm_model.predict(X_test)\n",
    "\n",
    "print(\"F1 score on the test set: \", f1_score(t_test, t_pred_svm, average='weighted'))\n",
    "print(classification_report(t_test, t_pred_svm))\n"
   ]
  }
 ],
 "metadata": {
  "colab": {
   "provenance": []
  },
  "kernelspec": {
   "display_name": "Python 3",
   "language": "python",
   "name": "python3"
  },
  "language_info": {
   "codemirror_mode": {
    "name": "ipython",
    "version": 3
   },
   "file_extension": ".py",
   "mimetype": "text/x-python",
   "name": "python",
   "nbconvert_exporter": "python",
   "pygments_lexer": "ipython3",
   "version": "3.13.1"
  }
 },
 "nbformat": 4,
 "nbformat_minor": 5
}
